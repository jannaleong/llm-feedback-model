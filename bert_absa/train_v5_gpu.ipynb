{
 "cells": [
  {
   "cell_type": "markdown",
   "id": "8d603995",
   "metadata": {},
   "source": [
    "### Training a BERT model on ABSA tasks with specific dataset\n",
    "\n",
    "This notebook trains an evaluates a BERT model on ABSA tasks by utilising pairwise classification where each pair consists of a (sentence, aspect) and it has a corresponding label. Label = 2 is positive, label = 1 is neutral and label = 0 is negative. \n",
    "\n",
    "Referenced from the linked tutorial on training a BERT model with ABSA tasks \n",
    "(https://dzone.com/articles/aspect-based-sentiment-analysis-with-gpt-and-bert())\n",
    "\n",
    "Code was generated with some aid of AI"
   ]
  },
  {
   "cell_type": "code",
   "execution_count": null,
   "id": "6bff14e8",
   "metadata": {},
   "outputs": [],
   "source": [
    "# transforming data to be used for model training \n",
    "\n",
    "import pandas as pd\n",
    "from pathlib import Path\n",
    "\n",
    "SENTIMENT2ID = {\n",
    "    \"negative\": 0,\n",
    "    \"neutral\":  1,\n",
    "    \"positive\": 2,\n",
    "    \"neg\": 0, \"neu\": 1, \"pos\": 2,\n",
    "}\n",
    "\n",
    "def _is_sentiment_line(s: str) -> bool:\n",
    "    return s.strip().lower() in SENTIMENT2ID\n",
    "\n",
    "def _label_id(s: str) -> int:\n",
    "    return SENTIMENT2ID[s.strip().lower()]\n",
    "\n",
    "def _inject_aspect(sentence_with_T: str, aspect: str) -> str:\n",
    "    s = sentence_with_T.replace(\"$T$\", aspect).replace(\"$T\", aspect)\n",
    "    s = s.replace(\"$t$\", aspect).replace(\"$t\", aspect)\n",
    "    return \" \".join(s.split())\n",
    "\n",
    "def transform_edurabsa_file(path: str | Path, verbose: bool = True):\n",
    "    \"\"\"\n",
    "    Robustly parse lines using a sliding window:\n",
    "      [sentence_with_$T$, aspect, sentiment] where sentiment ∈ SENTIMENT2ID.\n",
    "    If a window doesn't end with a valid sentiment, shift by 1 line and keep scanning.\n",
    "    Returns (df, stats).\n",
    "    \"\"\"\n",
    "    path = Path(path)\n",
    "    raw = path.read_text(encoding=\"utf-8\", errors=\"ignore\").splitlines()\n",
    "    # strip empties\n",
    "    lines = [ln.strip() for ln in raw if ln.strip() != \"\"]\n",
    "    n = len(lines)\n",
    "\n",
    "    rows = []\n",
    "    i = 0\n",
    "    skipped_windows = 0\n",
    "\n",
    "    while i <= n - 3:\n",
    "        s0, s1, s2 = lines[i], lines[i+1], lines[i+2]\n",
    "        if _is_sentiment_line(s2):\n",
    "            # accept this triple\n",
    "            sent = _inject_aspect(s0, s1)\n",
    "            label = _label_id(s2)\n",
    "            rows.append({\"sentence\": sent, \"aspect\": s1, \"label\": label})\n",
    "            i += 3\n",
    "        else:\n",
    "            # not a valid triple end — shift window by one to resync\n",
    "            skipped_windows += 1\n",
    "            i += 1\n",
    "\n",
    "    orphan_lines = max(0, (n - i))\n",
    "\n",
    "    if verbose:\n",
    "        print(f\"[transform_edurabsa_file] Parsed {len(rows)} triples.\")\n",
    "        print(f\"[transform_edurabsa_file] Skipped {skipped_windows} non-matching window(s).\")\n",
    "        if orphan_lines:\n",
    "            print(f\"[transform_edurabsa_file] {orphan_lines} trailing orphan line(s) ignored.\")\n",
    "\n",
    "    df = pd.DataFrame(rows, columns=[\"sentence\", \"aspect\", \"label\"])\n",
    "    stats = {\n",
    "        \"parsed_triples\": len(rows),\n",
    "        \"skipped_windows\": skipped_windows,\n",
    "        \"total_nonempty_lines\": n,\n",
    "        \"orphan_lines_ignored\": orphan_lines\n",
    "    }\n",
    "    return df, stats\n",
    "\n"
   ]
  },
  {
   "cell_type": "code",
   "execution_count": null,
   "id": "cece5584",
   "metadata": {},
   "outputs": [
    {
     "name": "stdout",
     "output_type": "stream",
     "text": [
      "[transform_edurabsa_file] Parsed 3408 triples.\n",
      "[transform_edurabsa_file] Skipped 24 non-matching window(s).\n",
      "{'parsed_triples': 3408, 'skipped_windows': 24, 'total_nonempty_lines': 10248, 'orphan_lines_ignored': 0}\n"
     ]
    }
   ],
   "source": [
    "data, stats = transform_edurabsa_file(\"dataset/apc_25p.txt\", verbose=True)\n",
    "print(stats)\n",
    "data[\"text_pair\"] = data[\"sentence\"] + \" [SEP] \" + data[\"aspect\"]"
   ]
  },
  {
   "cell_type": "code",
   "execution_count": null,
   "id": "adab6955",
   "metadata": {},
   "outputs": [
    {
     "name": "stdout",
     "output_type": "stream",
     "text": [
      "Saved to dataset/absa_output_apc_v4.xlsx\n"
     ]
    }
   ],
   "source": [
    "# save transfromed data \n",
    "output_path = \"dataset/absa_output_apc_v4.xlsx\"\n",
    "data.to_excel(output_path, index=False, engine=\"openpyxl\")\n",
    "\n",
    "print(f\"Saved to {output_path}\")"
   ]
  },
  {
   "cell_type": "code",
   "execution_count": null,
   "id": "c2eb8858",
   "metadata": {},
   "outputs": [
    {
     "name": "stdout",
     "output_type": "stream",
     "text": [
      "Using device: mps\n"
     ]
    },
    {
     "name": "stderr",
     "output_type": "stream",
     "text": [
      "Some weights of BertForSequenceClassification were not initialized from the model checkpoint at bert-base-uncased and are newly initialized: ['classifier.bias', 'classifier.weight']\n",
      "You should probably TRAIN this model on a down-stream task to be able to use it for predictions and inference.\n"
     ]
    },
    {
     "name": "stdout",
     "output_type": "stream",
     "text": [
      "Using max_length=128\n"
     ]
    },
    {
     "name": "stderr",
     "output_type": "stream",
     "text": [
      "/opt/anaconda3/envs/bert_absa/lib/python3.10/site-packages/transformers/training_args.py:2278: UserWarning: `use_mps_device` is deprecated and will be removed in version 5.0 of 🤗 Transformers. `mps` device will be used by default if available similar to the way `cuda` device is used.Therefore, no action from user is required. \n",
      "  warnings.warn(\n",
      "/opt/anaconda3/envs/bert_absa/lib/python3.10/site-packages/torch/utils/data/dataloader.py:684: UserWarning: 'pin_memory' argument is set as true but not supported on MPS now, then device pinned memory won't be used.\n",
      "  warnings.warn(warn_msg)\n"
     ]
    },
    {
     "data": {
      "text/html": [
       "\n",
       "    <div>\n",
       "      \n",
       "      <progress value='1023' max='1023' style='width:300px; height:20px; vertical-align: middle;'></progress>\n",
       "      [1023/1023 05:14, Epoch 3/3]\n",
       "    </div>\n",
       "    <table border=\"1\" class=\"dataframe\">\n",
       "  <thead>\n",
       " <tr style=\"text-align: left;\">\n",
       "      <th>Step</th>\n",
       "      <th>Training Loss</th>\n",
       "    </tr>\n",
       "  </thead>\n",
       "  <tbody>\n",
       "    <tr>\n",
       "      <td>50</td>\n",
       "      <td>0.939500</td>\n",
       "    </tr>\n",
       "    <tr>\n",
       "      <td>100</td>\n",
       "      <td>0.973100</td>\n",
       "    </tr>\n",
       "    <tr>\n",
       "      <td>150</td>\n",
       "      <td>0.872800</td>\n",
       "    </tr>\n",
       "    <tr>\n",
       "      <td>200</td>\n",
       "      <td>0.843700</td>\n",
       "    </tr>\n",
       "    <tr>\n",
       "      <td>250</td>\n",
       "      <td>0.716500</td>\n",
       "    </tr>\n",
       "    <tr>\n",
       "      <td>300</td>\n",
       "      <td>0.787700</td>\n",
       "    </tr>\n",
       "    <tr>\n",
       "      <td>350</td>\n",
       "      <td>0.787600</td>\n",
       "    </tr>\n",
       "    <tr>\n",
       "      <td>400</td>\n",
       "      <td>0.608600</td>\n",
       "    </tr>\n",
       "    <tr>\n",
       "      <td>450</td>\n",
       "      <td>0.731600</td>\n",
       "    </tr>\n",
       "    <tr>\n",
       "      <td>500</td>\n",
       "      <td>0.583000</td>\n",
       "    </tr>\n",
       "    <tr>\n",
       "      <td>550</td>\n",
       "      <td>0.627100</td>\n",
       "    </tr>\n",
       "    <tr>\n",
       "      <td>600</td>\n",
       "      <td>0.553600</td>\n",
       "    </tr>\n",
       "    <tr>\n",
       "      <td>650</td>\n",
       "      <td>0.557900</td>\n",
       "    </tr>\n",
       "    <tr>\n",
       "      <td>700</td>\n",
       "      <td>0.522700</td>\n",
       "    </tr>\n",
       "    <tr>\n",
       "      <td>750</td>\n",
       "      <td>0.337900</td>\n",
       "    </tr>\n",
       "    <tr>\n",
       "      <td>800</td>\n",
       "      <td>0.459700</td>\n",
       "    </tr>\n",
       "    <tr>\n",
       "      <td>850</td>\n",
       "      <td>0.405200</td>\n",
       "    </tr>\n",
       "    <tr>\n",
       "      <td>900</td>\n",
       "      <td>0.359700</td>\n",
       "    </tr>\n",
       "    <tr>\n",
       "      <td>950</td>\n",
       "      <td>0.465800</td>\n",
       "    </tr>\n",
       "    <tr>\n",
       "      <td>1000</td>\n",
       "      <td>0.402500</td>\n",
       "    </tr>\n",
       "  </tbody>\n",
       "</table><p>"
      ],
      "text/plain": [
       "<IPython.core.display.HTML object>"
      ]
     },
     "metadata": {},
     "output_type": "display_data"
    },
    {
     "name": "stderr",
     "output_type": "stream",
     "text": [
      "/opt/anaconda3/envs/bert_absa/lib/python3.10/site-packages/torch/utils/data/dataloader.py:684: UserWarning: 'pin_memory' argument is set as true but not supported on MPS now, then device pinned memory won't be used.\n",
      "  warnings.warn(warn_msg)\n",
      "/opt/anaconda3/envs/bert_absa/lib/python3.10/site-packages/torch/utils/data/dataloader.py:684: UserWarning: 'pin_memory' argument is set as true but not supported on MPS now, then device pinned memory won't be used.\n",
      "  warnings.warn(warn_msg)\n"
     ]
    },
    {
     "data": {
      "text/html": [
       "\n",
       "    <div>\n",
       "      \n",
       "      <progress value='258' max='86' style='width:300px; height:20px; vertical-align: middle;'></progress>\n",
       "      [86/86 08:45]\n",
       "    </div>\n",
       "    "
      ],
      "text/plain": [
       "<IPython.core.display.HTML object>"
      ]
     },
     "metadata": {},
     "output_type": "display_data"
    },
    {
     "name": "stdout",
     "output_type": "stream",
     "text": [
      "{'eval_loss': 0.6586470007896423, 'eval_accuracy': 0.7991202346041055, 'eval_f1': 0.7952269604804679, 'eval_precision': 0.792713990840949, 'eval_recall': 0.7991202346041055, 'eval_runtime': 7.1323, 'eval_samples_per_second': 95.622, 'eval_steps_per_second': 12.058, 'epoch': 3.0}\n"
     ]
    }
   ],
   "source": [
    "# model training \n",
    "\n",
    "import os\n",
    "import numpy as np\n",
    "import torch\n",
    "import pandas as pd\n",
    "from sklearn.model_selection import train_test_split\n",
    "from torch.utils.data import Dataset, DataLoader\n",
    "from sklearn.metrics import precision_recall_fscore_support, accuracy_score\n",
    "from transformers import (\n",
    "    BertTokenizerFast,        \n",
    "    BertForSequenceClassification,\n",
    "    Trainer,\n",
    "    TrainingArguments,\n",
    ")\n",
    "\n",
    "\n",
    "# enable use of mps\n",
    "os.environ[\"PYTORCH_ENABLE_MPS_FALLBACK\"] = \"1\"\n",
    "device = \"mps\" if torch.backends.mps.is_available() else (\n",
    "         \"cuda\" if torch.cuda.is_available() else \"cpu\")\n",
    "print(f\"Using device: {device}\")\n",
    "\n",
    "\n",
    "# generating train and test data\n",
    "train_data, test_data = train_test_split(data, test_size=0.2, random_state=42)\n",
    "\n",
    "# initalising model and tokenizer\n",
    "tokenizer = BertTokenizerFast.from_pretrained(\"bert-base-uncased\")\n",
    "model = BertForSequenceClassification.from_pretrained(\"bert-base-uncased\", num_labels=3).to(device)\n",
    "\n",
    "# computing max token length\n",
    "def choose_max_length(df, tokenizer, pct=95, floor=32, cap=128):\n",
    "    enc = tokenizer(\n",
    "        df[\"sentence\"].tolist(),\n",
    "        df[\"aspect\"].tolist(),\n",
    "        add_special_tokens=True,\n",
    "        truncation=False,\n",
    "        padding=False,\n",
    "    )\n",
    "    lengths = [len(ids) for ids in enc[\"input_ids\"]]\n",
    "    p = int(np.percentile(lengths, pct))\n",
    "    return min(max(p, floor), cap)\n",
    "\n",
    "max_len = choose_max_length(train_data, tokenizer)\n",
    "print(f\"Using max_length={max_len}\")\n",
    "\n",
    "\n",
    "class ABSADataset(Dataset):\n",
    "    def __init__(self, data, tokenizer, max_length):\n",
    "        self.data = data.reset_index(drop=True)\n",
    "        self.tokenizer = tokenizer\n",
    "        self.max_length = max_length\n",
    "\n",
    "    def __len__(self):\n",
    "        return len(self.data)\n",
    "\n",
    "    def __getitem__(self, idx):\n",
    "        row = self.data.iloc[idx]\n",
    "        sentence = row[\"sentence\"]\n",
    "        aspect   = row[\"aspect\"]\n",
    "        label    = int(row[\"label\"])\n",
    "\n",
    "        inputs = self.tokenizer(\n",
    "            sentence, aspect,\n",
    "            add_special_tokens=True,\n",
    "            max_length=self.max_length,\n",
    "            padding=\"max_length\",  \n",
    "            truncation=True,\n",
    "            return_tensors=\"pt\"\n",
    "        )\n",
    "\n",
    "        item = {k: v.squeeze(0) for k, v in inputs.items()}\n",
    "        item[\"labels\"] = torch.tensor(label, dtype=torch.long)\n",
    "        return item\n",
    "\n",
    "train_dataset = ABSADataset(train_data, tokenizer, max_length=max_len)\n",
    "test_dataset  = ABSADataset(test_data,  tokenizer, max_length=max_len)\n",
    "\n",
    "\n",
    "def compute_metrics(pred):\n",
    "    labels = pred.label_ids\n",
    "    preds = pred.predictions.argmax(-1)\n",
    "    precision, recall, f1, _ = precision_recall_fscore_support(labels, preds, average=\"weighted\", zero_division=0)\n",
    "    acc = accuracy_score(labels, preds)\n",
    "    return {\"accuracy\": acc, \"f1\": f1, \"precision\": precision, \"recall\": recall}\n",
    "\n",
    "training_args = TrainingArguments(\n",
    "    output_dir=\"./results\",\n",
    "    num_train_epochs=3,               \n",
    "    per_device_train_batch_size=8,     \n",
    "    per_device_eval_batch_size=8,\n",
    "    warmup_steps=0,\n",
    "    weight_decay=0.01,\n",
    "    logging_dir=\"./logs\",\n",
    "    logging_steps=50,\n",
    "    report_to=\"none\",\n",
    "    use_mps_device=True if device == \"mps\" else False,  \n",
    ")\n",
    "\n",
    "trainer = Trainer(\n",
    "    model=model,\n",
    "    args=training_args,\n",
    "    train_dataset=train_dataset,\n",
    "    eval_dataset=test_dataset,\n",
    "    compute_metrics=compute_metrics,\n",
    ")\n",
    "\n",
    "trainer.train()\n",
    "print(trainer.evaluate())\n"
   ]
  },
  {
   "cell_type": "code",
   "execution_count": null,
   "id": "2610ebd9",
   "metadata": {},
   "outputs": [
    {
     "name": "stdout",
     "output_type": "stream",
     "text": [
      "Negative\n"
     ]
    }
   ],
   "source": [
    "# model prediction \n",
    "import torch\n",
    "\n",
    "def predict_sentiment(model, tokenizer, sentence, aspect, max_length=128):\n",
    "    model.eval()\n",
    "    device = next(model.parameters()).device  # whatever device the model is on\n",
    "    inputs = tokenizer(\n",
    "        sentence, aspect,\n",
    "        return_tensors=\"pt\",\n",
    "        truncation=True,\n",
    "        padding=\"max_length\",\n",
    "        max_length=max_length,\n",
    "    )\n",
    "    # move inputs to the same device as the model\n",
    "    inputs = {k: v.to(device) for k, v in inputs.items()}\n",
    "\n",
    "    with torch.no_grad():\n",
    "        logits = model(**inputs).logits\n",
    "    pred_id = int(torch.argmax(logits, dim=1).item())\n",
    "    return {0: \"Negative\", 1: \"Neutral\", 2: \"Positive\"}[pred_id]\n",
    "\n",
    "model.to(trainer.args.device)\n",
    "\n",
    "print(predict_sentiment(model, tokenizer,\n",
    "                        \"The instructor is not prepared for lesson and is moves a too slow pace\", \"pace\"))"
   ]
  },
  {
   "cell_type": "code",
   "execution_count": null,
   "id": "cd6afbb3",
   "metadata": {},
   "outputs": [
    {
     "name": "stderr",
     "output_type": "stream",
     "text": [
      "/opt/anaconda3/envs/bert_absa/lib/python3.10/site-packages/torch/utils/data/dataloader.py:684: UserWarning: 'pin_memory' argument is set as true but not supported on MPS now, then device pinned memory won't be used.\n",
      "  warnings.warn(warn_msg)\n"
     ]
    }
   ],
   "source": [
    "# save model and tokeniser \n",
    "\n",
    "import os, json\n",
    "\n",
    "save_dir = \"artifacts/bert-absa-v1\"\n",
    "os.makedirs(save_dir, exist_ok=True)\n",
    "\n",
    "# attach label to the model config\n",
    "id2label = {0: \"negative\", 1: \"neutral\", 2: \"positive\"}\n",
    "label2id = {v: k for k, v in id2label.items()}\n",
    "trainer.model.config.id2label = id2label\n",
    "trainer.model.config.label2id = label2id\n",
    "\n",
    "# save trainer and tokenizer\n",
    "trainer.save_model(save_dir)\n",
    "tokenizer.save_pretrained(save_dir)\n",
    "\n",
    "# save eval metrics\n",
    "metrics = trainer.evaluate()\n",
    "with open(os.path.join(save_dir, \"eval_metrics.json\"), \"w\") as f:\n",
    "    json.dump(metrics, f, indent=2)\n",
    "\n",
    "# save run metadata for reproducibility\n",
    "run_meta = {\n",
    "    \"max_length\": max_len,\n",
    "    \"num_train_epochs\": training_args.num_train_epochs,\n",
    "    \"per_device_train_batch_size\": training_args.per_device_train_batch_size,\n",
    "    \"per_device_eval_batch_size\": training_args.per_device_eval_batch_size,\n",
    "    \"learning_rate\": getattr(training_args, \"learning_rate\", None),\n",
    "    \"weight_decay\": training_args.weight_decay,\n",
    "    \"seed\": getattr(training_args, \"seed\", None),\n",
    "    \"model_name\": \"bert-base-uncased\",\n",
    "    \"labels\": id2label,\n",
    "}\n",
    "with open(os.path.join(save_dir, \"run_meta.json\"), \"w\") as f:\n",
    "    json.dump(run_meta, f, indent=2)\n",
    "\n",
    "# save trainer state\n",
    "trainer.state.save_to_json(os.path.join(save_dir, \"trainer_state.json\"))\n",
    "\n"
   ]
  },
  {
   "cell_type": "code",
   "execution_count": null,
   "id": "b48a9ebe",
   "metadata": {},
   "outputs": [
    {
     "name": "stderr",
     "output_type": "stream",
     "text": [
      "Device set to use mps\n"
     ]
    },
    {
     "name": "stdout",
     "output_type": "stream",
     "text": [
      "{'label': 'neutral', 'score': 0.4217434823513031}\n"
     ]
    }
   ],
   "source": [
    "# load and test model \n",
    "from transformers import pipeline\n",
    "import torch\n",
    "\n",
    "device = 0 if torch.cuda.is_available() else (-1 if not torch.backends.mps.is_available() else \"mps\")\n",
    "\n",
    "clf = pipeline(\"text-classification\", model=save_dir, tokenizer=save_dir, device=device)\n",
    "print(clf({\"text\": \"Many others would say the instructor is really prepared for lesson but I personally do not agree. Otherwise, lesson moves at a decent pace\", \"text_pair\": \"preparedness\"},\n",
    "          truncation=True))\n"
   ]
  }
 ],
 "metadata": {
  "kernelspec": {
   "display_name": "bert_absa",
   "language": "python",
   "name": "python3"
  },
  "language_info": {
   "codemirror_mode": {
    "name": "ipython",
    "version": 3
   },
   "file_extension": ".py",
   "mimetype": "text/x-python",
   "name": "python",
   "nbconvert_exporter": "python",
   "pygments_lexer": "ipython3",
   "version": "3.10.18"
  }
 },
 "nbformat": 4,
 "nbformat_minor": 5
}
